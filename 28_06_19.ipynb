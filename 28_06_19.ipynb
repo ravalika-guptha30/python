{
  "nbformat": 4,
  "nbformat_minor": 0,
  "metadata": {
    "colab": {
      "name": "28/06/19.ipynb",
      "version": "0.3.2",
      "provenance": [],
      "collapsed_sections": [],
      "include_colab_link": true
    },
    "kernelspec": {
      "name": "python3",
      "display_name": "Python 3"
    }
  },
  "cells": [
    {
      "cell_type": "markdown",
      "metadata": {
        "id": "view-in-github",
        "colab_type": "text"
      },
      "source": [
        "<a href=\"https://colab.research.google.com/github/Akash-Varma-0/Python/blob/master/28_06_19.ipynb\" target=\"_parent\"><img src=\"https://colab.research.google.com/assets/colab-badge.svg\" alt=\"Open In Colab\"/></a>"
      ]
    },
    {
      "cell_type": "markdown",
      "metadata": {
        "id": "NUlZcR-mKhZr",
        "colab_type": "text"
      },
      "source": [
        "##Introduction to Object Oriented Programming (OOP) in Python\n",
        "\n",
        "One of the proper approach to solve a progrraming problemsby creating an objects. This is known as Object Oriented Programming.\n",
        "\n",
        "####An object has two characteristics:\n",
        "\n",
        "1. attributes (name, age, colour)\n",
        "\n",
        "2. behaviour (learn, study, singing, dance)\n",
        "\n",
        "In Python, the concept of OOP follow these things:\n",
        "\n",
        "1. Inheritence\n",
        "\n",
        "2. Encapsulation\n",
        "\n",
        "3. Polymorphism\n",
        "\n",
        "A class is a blueprint for the object\n",
        "\n",
        "####Object:\n",
        "\n",
        "Blueprint of class or Instance of the class or physical entity \n",
        "\n",
        "####Methods:\n",
        "\n",
        "Part of class and can be called with object\n",
        "\n",
        "####Constructors:\n",
        "\n",
        "Part of class  and can be called automatically when the  class is created"
      ]
    },
    {
      "cell_type": "code",
      "metadata": {
        "id": "2eIfUaAQNJac",
        "colab_type": "code",
        "colab": {}
      },
      "source": [
        "class classname:\n",
        "  # some functions and variables\n",
        "  # function -- used to perform the specific activity\n",
        "  # variables -- Data(memory)"
      ],
      "execution_count": 0,
      "outputs": []
    },
    {
      "cell_type": "code",
      "metadata": {
        "id": "qQsqGtuJOwe0",
        "colab_type": "code",
        "outputId": "0d2607c4-4983-4cea-eb89-219511f51d87",
        "colab": {
          "base_uri": "https://localhost:8080/",
          "height": 35
        }
      },
      "source": [
        "def test():\n",
        "  print('Test() for function')\n",
        "  return\n",
        "test()"
      ],
      "execution_count": 0,
      "outputs": [
        {
          "output_type": "stream",
          "text": [
            "Test() for function\n"
          ],
          "name": "stdout"
        }
      ]
    },
    {
      "cell_type": "code",
      "metadata": {
        "id": "8BqncCgUNiZP",
        "colab_type": "code",
        "outputId": "dc2fde9f-9e0c-4405-bc2f-38e07892977c",
        "colab": {
          "base_uri": "https://localhost:8080/",
          "height": 35
        }
      },
      "source": [
        "class demo:\n",
        "  def test(self):\n",
        "    print('test() for the class and method')\n",
        "    return\n",
        "obj=demo() #object creation\n",
        "obj.test() #call for the method"
      ],
      "execution_count": 0,
      "outputs": [
        {
          "output_type": "stream",
          "text": [
            "test() for the class and method\n"
          ],
          "name": "stdout"
        }
      ]
    },
    {
      "cell_type": "code",
      "metadata": {
        "id": "sGmRpzjLRVQ-",
        "colab_type": "code",
        "outputId": "3511beb3-909e-43b8-cbe6-d03e39ac3bc1",
        "colab": {
          "base_uri": "https://localhost:8080/",
          "height": 35
        }
      },
      "source": [
        "class demo1:\n",
        "  def fact(self,n):\n",
        "    fact=1\n",
        "    while(n!=0):\n",
        "      fact=fact*n\n",
        "      n=n-1\n",
        "    return fact\n",
        "p1=demo1()\n",
        "print(p1.fact(5))"
      ],
      "execution_count": 0,
      "outputs": [
        {
          "output_type": "stream",
          "text": [
            "120\n"
          ],
          "name": "stdout"
        }
      ]
    },
    {
      "cell_type": "code",
      "metadata": {
        "id": "TPFjc8y_SwjE",
        "colab_type": "code",
        "colab": {}
      },
      "source": [
        "# Method\n",
        "# def test(self,para1,para2)"
      ],
      "execution_count": 0,
      "outputs": []
    },
    {
      "cell_type": "code",
      "metadata": {
        "id": "IWUX_LFoT6Yy",
        "colab_type": "code",
        "colab": {}
      },
      "source": [
        "class demo2:\n",
        "  def accept(self,p1,p2):\n",
        "    self.p2=p1\n",
        "    self.p2=p2\n",
        "    return\n",
        "  def display(self):\n",
        "    print('p1= ',p1)\n",
        "    print('p2= ',p2)\n",
        "c1=demo2()\n",
        "c1.accept(10,20)\n",
        "c1.display()"
      ],
      "execution_count": 0,
      "outputs": []
    },
    {
      "cell_type": "code",
      "metadata": {
        "id": "KFl_arcUVThK",
        "colab_type": "code",
        "outputId": "b10de2a1-656e-4118-d3f7-df3e8751f630",
        "colab": {
          "base_uri": "https://localhost:8080/",
          "height": 35
        }
      },
      "source": [
        "class demo2:\n",
        "  def __init__(self,p1,p2):\n",
        "    self.p1=p1\n",
        "    self.p2=p2\n",
        "  def add(self,p1,p2):\n",
        "    return p1 + p2\n",
        "c1=demo2(10,20)\n",
        "print(c1.add(100,200))"
      ],
      "execution_count": 0,
      "outputs": [
        {
          "output_type": "stream",
          "text": [
            "300\n"
          ],
          "name": "stdout"
        }
      ]
    },
    {
      "cell_type": "code",
      "metadata": {
        "id": "9nB2veJQWsbd",
        "colab_type": "code",
        "outputId": "f77611c9-ed55-484d-b3ea-c89bd46512b5",
        "colab": {
          "base_uri": "https://localhost:8080/",
          "height": 35
        }
      },
      "source": [
        "lst =[1,2,3,4]\n",
        "print(lst)"
      ],
      "execution_count": 0,
      "outputs": [
        {
          "output_type": "stream",
          "text": [
            "[1, 2, 3, 4]\n"
          ],
          "name": "stdout"
        }
      ]
    },
    {
      "cell_type": "code",
      "metadata": {
        "id": "WQXzDAQ81pem",
        "colab_type": "code",
        "outputId": "68682829-67d7-46d1-ae03-9da367fe8405",
        "colab": {
          "base_uri": "https://localhost:8080/",
          "height": 35
        }
      },
      "source": [
        "import numpy as np\n",
        "lst=[1,2,3,4]\n",
        "array=np.array(lst)\n",
        "print(array)"
      ],
      "execution_count": 0,
      "outputs": [
        {
          "output_type": "stream",
          "text": [
            "[1 2 3 4]\n"
          ],
          "name": "stdout"
        }
      ]
    },
    {
      "cell_type": "code",
      "metadata": {
        "id": "T6IS0ahl11Rk",
        "colab_type": "code",
        "outputId": "65111338-e947-40ad-98b9-f8a7fc612d2e",
        "colab": {
          "base_uri": "https://localhost:8080/",
          "height": 52
        }
      },
      "source": [
        "lst=[1,2,3,4]\n",
        "array=np.array(lst)\n",
        "print(array.shape)\n",
        "print(array.dtype)"
      ],
      "execution_count": 0,
      "outputs": [
        {
          "output_type": "stream",
          "text": [
            "(4,)\n",
            "int64\n"
          ],
          "name": "stdout"
        }
      ]
    },
    {
      "cell_type": "code",
      "metadata": {
        "id": "Jp_JBq-G2D17",
        "colab_type": "code",
        "outputId": "d6365ac0-0be2-4221-d9a7-7d6cb0540fdc",
        "colab": {
          "base_uri": "https://localhost:8080/",
          "height": 52
        }
      },
      "source": [
        "lst=[1.0,2.5,3.6,9.5]\n",
        "array=np.array(lst)\n",
        "print(array.shape)\n",
        "print(array.dtype)"
      ],
      "execution_count": 0,
      "outputs": [
        {
          "output_type": "stream",
          "text": [
            "(4,)\n",
            "float64\n"
          ],
          "name": "stdout"
        }
      ]
    },
    {
      "cell_type": "code",
      "metadata": {
        "id": "IjkGic1f2ccC",
        "colab_type": "code",
        "outputId": "406682fd-a373-432a-b120-000f9f229727",
        "colab": {
          "base_uri": "https://localhost:8080/",
          "height": 52
        }
      },
      "source": [
        "a1 = np.array([(1,2,3),(4,5,6)])\n",
        "print(a1.shape)\n",
        "a2 = np.array([(1,2),(3,4),(5,6)])\n",
        "print(a2.shape)"
      ],
      "execution_count": 0,
      "outputs": [
        {
          "output_type": "stream",
          "text": [
            "(2, 3)\n",
            "(3, 2)\n"
          ],
          "name": "stdout"
        }
      ]
    },
    {
      "cell_type": "code",
      "metadata": {
        "id": "E07DyAcX3Sbw",
        "colab_type": "code",
        "outputId": "ef4a94d4-045d-4887-f7ab-647008125e35",
        "colab": {
          "base_uri": "https://localhost:8080/",
          "height": 104
        }
      },
      "source": [
        "#Re-shape the given array\n",
        "#numpy.reshape(arrayname,reshape,order='C')\n",
        "a1 = np.array([(1,2,3),(4,5,6)])\n",
        "print(a1)\n",
        "a1.reshape(3,2)"
      ],
      "execution_count": 0,
      "outputs": [
        {
          "output_type": "stream",
          "text": [
            "[[1 2 3]\n",
            " [4 5 6]]\n"
          ],
          "name": "stdout"
        },
        {
          "output_type": "execute_result",
          "data": {
            "text/plain": [
              "array([[1, 2],\n",
              "       [3, 4],\n",
              "       [5, 6]])"
            ]
          },
          "metadata": {
            "tags": []
          },
          "execution_count": 25
        }
      ]
    },
    {
      "cell_type": "code",
      "metadata": {
        "id": "0ZDb1nhT3qQB",
        "colab_type": "code",
        "outputId": "94fd2fdf-3900-44fe-d540-0719709ea935",
        "colab": {
          "base_uri": "https://localhost:8080/",
          "height": 35
        }
      },
      "source": [
        "#Append some data -- Horizontally\n",
        "#hstack(array1,array2) -- will be automatically arranged in horizontal\n",
        "a1=np.array([1,2,3])\n",
        "a2=np.array([4,5,6])\n",
        "print(np.hstack((a1,a2)))"
      ],
      "execution_count": 0,
      "outputs": [
        {
          "output_type": "stream",
          "text": [
            "[1 2 3 4 5 6]\n"
          ],
          "name": "stdout"
        }
      ]
    },
    {
      "cell_type": "code",
      "metadata": {
        "id": "gLWQuzr25RBe",
        "colab_type": "code",
        "outputId": "53682e2a-a42a-43f7-9091-c9774b0fab72",
        "colab": {
          "base_uri": "https://localhost:8080/",
          "height": 52
        }
      },
      "source": [
        "#Append some data -- Vertical\n",
        "#vstack(array1,array2) -- will be automatically arranged in vertically\n",
        "a1=np.array([1,2,3])\n",
        "a2=np.array([4,5,6])\n",
        "print(np.vstack((a1,a2)))"
      ],
      "execution_count": 0,
      "outputs": [
        {
          "output_type": "stream",
          "text": [
            "[[1 2 3]\n",
            " [4 5 6]]\n"
          ],
          "name": "stdout"
        }
      ]
    },
    {
      "cell_type": "code",
      "metadata": {
        "id": "VWJ-gHMT6TN3",
        "colab_type": "code",
        "outputId": "ce27b969-d080-4fa3-c9f1-9c4a6d5baf09",
        "colab": {
          "base_uri": "https://localhost:8080/",
          "height": 52
        }
      },
      "source": [
        "#Generate random numbers from NP\n",
        "a1=np.random.normal(5,0.5,10)\n",
        "print(a1)"
      ],
      "execution_count": 0,
      "outputs": [
        {
          "output_type": "stream",
          "text": [
            "[5.06034643 4.83692477 5.55682453 4.65149428 6.13791002 4.73393539\n",
            " 4.54316984 5.03571784 4.4329181  5.59896929]\n"
          ],
          "name": "stdout"
        }
      ]
    },
    {
      "cell_type": "code",
      "metadata": {
        "id": "bkw-WY7N6hcL",
        "colab_type": "code",
        "outputId": "a9bff7cb-38cd-413c-9401-06d135774e69",
        "colab": {
          "base_uri": "https://localhost:8080/",
          "height": 52
        }
      },
      "source": [
        "# numpy.zeros() and numpy.one()\n",
        "# Generate an array with all zeros -- numpy.zeros()\n",
        "# numpy.zeros(shape, dtype = float, order=\"C\")\n",
        "np.zeros((2,2))"
      ],
      "execution_count": 0,
      "outputs": [
        {
          "output_type": "execute_result",
          "data": {
            "text/plain": [
              "array([[0., 0.],\n",
              "       [0., 0.]])"
            ]
          },
          "metadata": {
            "tags": []
          },
          "execution_count": 29
        }
      ]
    },
    {
      "cell_type": "code",
      "metadata": {
        "id": "Khgh--Kx68Kb",
        "colab_type": "code",
        "outputId": "926ab297-a768-466c-a09e-665234fa5ca4",
        "colab": {
          "base_uri": "https://localhost:8080/",
          "height": 52
        }
      },
      "source": [
        "np.zeros((2,2),dtype=np.int16)"
      ],
      "execution_count": 0,
      "outputs": [
        {
          "output_type": "execute_result",
          "data": {
            "text/plain": [
              "array([[0, 0],\n",
              "       [0, 0]], dtype=int16)"
            ]
          },
          "metadata": {
            "tags": []
          },
          "execution_count": 31
        }
      ]
    },
    {
      "cell_type": "code",
      "metadata": {
        "id": "eURp8gCJ7fSd",
        "colab_type": "code",
        "outputId": "bad207d0-0f6d-43ca-f579-405efc6a6c96",
        "colab": {
          "base_uri": "https://localhost:8080/",
          "height": 87
        }
      },
      "source": [
        "#np.ones(shape,dtype=float,order='C')\n",
        "np.ones((4,3),dtype=np.int64)"
      ],
      "execution_count": 0,
      "outputs": [
        {
          "output_type": "execute_result",
          "data": {
            "text/plain": [
              "array([[1, 1, 1],\n",
              "       [1, 1, 1],\n",
              "       [1, 1, 1],\n",
              "       [1, 1, 1]])"
            ]
          },
          "metadata": {
            "tags": []
          },
          "execution_count": 32
        }
      ]
    },
    {
      "cell_type": "code",
      "metadata": {
        "id": "Y551IJkx8VPg",
        "colab_type": "code",
        "outputId": "1968f8c3-8705-4ca8-cb03-f947ad68e814",
        "colab": {
          "base_uri": "https://localhost:8080/",
          "height": 87
        }
      },
      "source": [
        "A=np.matrix(np.ones((4,4),dtype=np.int64))\n",
        "print(A)"
      ],
      "execution_count": 0,
      "outputs": [
        {
          "output_type": "stream",
          "text": [
            "[[1 1 1 1]\n",
            " [1 1 1 1]\n",
            " [1 1 1 1]\n",
            " [1 1 1 1]]\n"
          ],
          "name": "stdout"
        }
      ]
    },
    {
      "cell_type": "code",
      "metadata": {
        "id": "GKwXuX-r85ZX",
        "colab_type": "code",
        "outputId": "dc666850-ff00-4651-dcff-d2e61223fda5",
        "colab": {
          "base_uri": "https://localhost:8080/",
          "height": 87
        }
      },
      "source": [
        "A=np.matrix(np.ones((4,4),dtype=np.int64))\n",
        "np.asarray(A)[2]=5\n",
        "print(A)"
      ],
      "execution_count": 0,
      "outputs": [
        {
          "output_type": "stream",
          "text": [
            "[[1 1 1 1]\n",
            " [1 1 1 1]\n",
            " [5 5 5 5]\n",
            " [1 1 1 1]]\n"
          ],
          "name": "stdout"
        }
      ]
    },
    {
      "cell_type": "code",
      "metadata": {
        "id": "ORMwK52891Zt",
        "colab_type": "code",
        "outputId": "f9d94c2b-1c91-4e87-f0fb-db738e2fc6f9",
        "colab": {
          "base_uri": "https://localhost:8080/",
          "height": 87
        }
      },
      "source": [
        "A=np.matrix(np.ones((4,4),dtype=np.int64))\n",
        "np.asarray(A)[1][3]=14\n",
        "np.asarray(A)[3][3]=16\n",
        "print(A)"
      ],
      "execution_count": 0,
      "outputs": [
        {
          "output_type": "stream",
          "text": [
            "[[ 1  1  1  1]\n",
            " [ 1  1  1 14]\n",
            " [ 1  1  1  1]\n",
            " [ 1  1  1 16]]\n"
          ],
          "name": "stdout"
        }
      ]
    },
    {
      "cell_type": "code",
      "metadata": {
        "id": "wLgvofLXPXIW",
        "colab_type": "code",
        "outputId": "437f0f2a-fb0d-412e-f3db-e192a52b4752",
        "colab": {
          "base_uri": "https://localhost:8080/",
          "height": 35
        }
      },
      "source": [
        "#arrange() -- particular\n",
        "#numpy.arrange(start,end,step)\n",
        "#start -- value\n",
        "#end -- value\n",
        "#step -- Gap between one value to another value\n",
        "import numpy as np\n",
        "np.arange(1,10)"
      ],
      "execution_count": 0,
      "outputs": [
        {
          "output_type": "execute_result",
          "data": {
            "text/plain": [
              "array([1, 2, 3, 4, 5, 6, 7, 8, 9])"
            ]
          },
          "metadata": {
            "tags": []
          },
          "execution_count": 38
        }
      ]
    },
    {
      "cell_type": "code",
      "metadata": {
        "id": "CusOfNo2P8rT",
        "colab_type": "code",
        "outputId": "8245e47e-3b15-4916-876d-c70f2b0789c1",
        "colab": {
          "base_uri": "https://localhost:8080/",
          "height": 35
        }
      },
      "source": [
        "np.arange(1,100,9)"
      ],
      "execution_count": 0,
      "outputs": [
        {
          "output_type": "execute_result",
          "data": {
            "text/plain": [
              "array([ 1, 10, 19, 28, 37, 46, 55, 64, 73, 82, 91])"
            ]
          },
          "metadata": {
            "tags": []
          },
          "execution_count": 39
        }
      ]
    },
    {
      "cell_type": "code",
      "metadata": {
        "id": "5hXkprWIQH7b",
        "colab_type": "code",
        "outputId": "f7a4bb7f-4424-4541-a1c3-0bd2ee9f900b",
        "colab": {
          "base_uri": "https://localhost:8080/",
          "height": 35
        }
      },
      "source": [
        "np.arange(2,20,2)\n",
        "np.arange(1,25,2)"
      ],
      "execution_count": 0,
      "outputs": [
        {
          "output_type": "execute_result",
          "data": {
            "text/plain": [
              "array([ 1,  3,  5,  7,  9, 11, 13, 15, 17, 19, 21, 23])"
            ]
          },
          "metadata": {
            "tags": []
          },
          "execution_count": 40
        }
      ]
    },
    {
      "cell_type": "code",
      "metadata": {
        "id": "Ci7SboOmRIz8",
        "colab_type": "code",
        "outputId": "6ea929a6-9ec6-4050-9577-e9bb2bb1e1bb",
        "colab": {
          "base_uri": "https://localhost:8080/",
          "height": 52
        }
      },
      "source": [
        "# Indexing and Slicing of Numpy\n",
        "a1=np.array([(1,2,3),(4,5,6)])\n",
        "print(a1)"
      ],
      "execution_count": 0,
      "outputs": [
        {
          "output_type": "stream",
          "text": [
            "[[1 2 3]\n",
            " [4 5 6]]\n"
          ],
          "name": "stdout"
        }
      ]
    },
    {
      "cell_type": "code",
      "metadata": {
        "id": "wG3qHOKqRY7N",
        "colab_type": "code",
        "outputId": "6a15bbc3-fe26-47cd-8f42-1f540796bed9",
        "colab": {
          "base_uri": "https://localhost:8080/",
          "height": 35
        }
      },
      "source": [
        "a1=np.array([(1,2,3),(4,5,6)])\n",
        "print('First Row: ',a1[1])"
      ],
      "execution_count": 0,
      "outputs": [
        {
          "output_type": "stream",
          "text": [
            "First Row:  [4 5 6]\n"
          ],
          "name": "stdout"
        }
      ]
    },
    {
      "cell_type": "code",
      "metadata": {
        "id": "dErTqK1fRp88",
        "colab_type": "code",
        "outputId": "6c8e90aa-39a6-4fb8-8455-95976159af97",
        "colab": {
          "base_uri": "https://localhost:8080/",
          "height": 35
        }
      },
      "source": [
        "a1=np.array([(1,2,3),(4,5,6)])\n",
        "print('Second Row: ',a1[1])"
      ],
      "execution_count": 0,
      "outputs": [
        {
          "output_type": "stream",
          "text": [
            "Second Row:  [4 5 6]\n"
          ],
          "name": "stdout"
        }
      ]
    },
    {
      "cell_type": "code",
      "metadata": {
        "id": "nOrmPRgxRxIe",
        "colab_type": "code",
        "outputId": "39043291-afe1-4d40-d6c2-660ef981c473",
        "colab": {
          "base_uri": "https://localhost:8080/",
          "height": 35
        }
      },
      "source": [
        "a1=np.array([(1,2,3),(4,5,6)])\n",
        "print('Slicing Column: ',a1[:,1])"
      ],
      "execution_count": 0,
      "outputs": [
        {
          "output_type": "stream",
          "text": [
            "Slicing Column:  [2 5]\n"
          ],
          "name": "stdout"
        }
      ]
    },
    {
      "cell_type": "code",
      "metadata": {
        "id": "mA5qz4M7R3ze",
        "colab_type": "code",
        "outputId": "c2c27a84-2d47-45ad-b693-f59380b55e97",
        "colab": {
          "base_uri": "https://localhost:8080/",
          "height": 35
        }
      },
      "source": [
        "a1=np.array([(1,2,3),(4,5,6)])\n",
        "print('Slicing Last Column: ',a1[:,2])"
      ],
      "execution_count": 0,
      "outputs": [
        {
          "output_type": "stream",
          "text": [
            "Slicing Last Column:  [3 6]\n"
          ],
          "name": "stdout"
        }
      ]
    },
    {
      "cell_type": "code",
      "metadata": {
        "id": "RWmfn8YmSJ6e",
        "colab_type": "code",
        "outputId": "658a3faa-251a-4ce6-9c69-5bf52cddb4b1",
        "colab": {
          "base_uri": "https://localhost:8080/",
          "height": 35
        }
      },
      "source": [
        "a1=np.array([(1,2,3),(4,5,6)])\n",
        "print('Row and Column',a1[1,:1])"
      ],
      "execution_count": 0,
      "outputs": [
        {
          "output_type": "stream",
          "text": [
            "Row and Column [4]\n"
          ],
          "name": "stdout"
        }
      ]
    },
    {
      "cell_type": "code",
      "metadata": {
        "id": "gDgL7q3zUdJZ",
        "colab_type": "code",
        "outputId": "2f72d079-32cb-409f-a75e-47cc7adf679e",
        "colab": {
          "base_uri": "https://localhost:8080/",
          "height": 121
        }
      },
      "source": [
        "# Some math Operation on given random numbers\n",
        "# Min    -- returns the least number\n",
        "# Max    -- returns the large number\n",
        "# Mean   -- Mean\n",
        "# Median -- Medium\n",
        "a1=np.random.normal(5,1,10)\n",
        "print(a1)\n",
        "print('Min value =',np.min(a1))\n",
        "print('Max value =',np.max(a1))\n",
        "print('Mean value =',np.mean(a1))\n",
        "print('Median value =',np.median(a1))"
      ],
      "execution_count": 0,
      "outputs": [
        {
          "output_type": "stream",
          "text": [
            "[5.73938612 3.73238394 3.97617772 5.5922856  4.92458077 4.67043541\n",
            " 7.68969661 4.61685297 4.63701129 5.67843143]\n",
            "Min value = 3.7323839404284893\n",
            "Max value = 7.689696612004672\n",
            "Mean value = 5.125724184705975\n",
            "Median value = 4.797508086659918\n"
          ],
          "name": "stdout"
        }
      ]
    },
    {
      "cell_type": "code",
      "metadata": {
        "id": "e4YZvScHUpFu",
        "colab_type": "code",
        "outputId": "34895209-ba76-4fd0-bae6-8d809562a1cb",
        "colab": {
          "base_uri": "https://localhost:8080/",
          "height": 35
        }
      },
      "source": [
        "# Multiplication of 1D arrays\n",
        "# numpy.dot(x,y) --\n",
        "c1=np.array([1,2])\n",
        "c2=np.array([4,5])\n",
        "np.dot(c1,c2)"
      ],
      "execution_count": 0,
      "outputs": [
        {
          "output_type": "execute_result",
          "data": {
            "text/plain": [
              "14"
            ]
          },
          "metadata": {
            "tags": []
          },
          "execution_count": 54
        }
      ]
    },
    {
      "cell_type": "code",
      "metadata": {
        "id": "xlzIFB_rXOOc",
        "colab_type": "code",
        "outputId": "f042411b-0073-4b83-b5d4-1d327a29ae8f",
        "colab": {
          "base_uri": "https://localhost:8080/",
          "height": 52
        }
      },
      "source": [
        "c1=np.array([(1,2),(3,4)])\n",
        "c2=np.array([(3,4),(1,2)])\n",
        "np.dot(c1,c2)"
      ],
      "execution_count": 0,
      "outputs": [
        {
          "output_type": "execute_result",
          "data": {
            "text/plain": [
              "array([[ 5,  8],\n",
              "       [13, 20]])"
            ]
          },
          "metadata": {
            "tags": []
          },
          "execution_count": 55
        }
      ]
    },
    {
      "cell_type": "code",
      "metadata": {
        "id": "yac-A2CJXoec",
        "colab_type": "code",
        "outputId": "d3c4c3de-143a-4980-9bf3-c75037899259",
        "colab": {
          "base_uri": "https://localhost:8080/",
          "height": 52
        }
      },
      "source": [
        "b1=np.array([(1,5),(6,9)])\n",
        "b2=np.array([(1,3),(1,6)])\n",
        "np.matmul(b1,b2)"
      ],
      "execution_count": 0,
      "outputs": [
        {
          "output_type": "execute_result",
          "data": {
            "text/plain": [
              "array([[ 6, 33],\n",
              "       [15, 72]])"
            ]
          },
          "metadata": {
            "tags": []
          },
          "execution_count": 56
        }
      ]
    },
    {
      "cell_type": "markdown",
      "metadata": {
        "id": "3SBJ4-ZJcI62",
        "colab_type": "text"
      },
      "source": [
        "###Pandas Basics\n",
        "\n",
        "Python is one of the popular programming language for data analysis\n",
        "\n",
        "Python is offering the Lib called Pandas used for importing and analyzing \n",
        "\n",
        "Pandas DataFrames\n",
        "\n",
        "       Data Analysis with Python\n",
        "       "
      ]
    },
    {
      "cell_type": "code",
      "metadata": {
        "id": "vOiJng9RgN4Y",
        "colab_type": "code",
        "outputId": "f9409494-efb6-467f-906c-c14b65a757f3",
        "colab": {
          "base_uri": "https://localhost:8080/",
          "height": 69
        }
      },
      "source": [
        "import pandas as pd\n",
        "dict={'Name':['Akash','Varma'],'EmailID':['akash@gmail.com','varma@gmail.com'],'MobileNumber':['84854','65956'],'Address':\n",
        "     ['Hyd','Hyd']}\n",
        "b=pd.DataFrame(dict)\n",
        "print(b)"
      ],
      "execution_count": 0,
      "outputs": [
        {
          "output_type": "stream",
          "text": [
            "    Name          EmailID MobileNumber Address\n",
            "0  Akash  akash@gmail.com        84854     Hyd\n",
            "1  Varma  varma@gmail.com        65956     Hyd\n"
          ],
          "name": "stdout"
        }
      ]
    },
    {
      "cell_type": "code",
      "metadata": {
        "id": "9s-uNumzjHQl",
        "colab_type": "code",
        "colab": {
          "base_uri": "https://localhost:8080/",
          "height": 69
        },
        "outputId": "3a53a5b6-a694-4bcf-998d-be532cb02042"
      },
      "source": [
        "b.index=['01','02']\n",
        "print(b)"
      ],
      "execution_count": 59,
      "outputs": [
        {
          "output_type": "stream",
          "text": [
            "     Name          EmailID MobileNumber Address\n",
            "01  Akash  akash@gmail.com        84854     Hyd\n",
            "02  Varma  varma@gmail.com        65956     Hyd\n"
          ],
          "name": "stdout"
        }
      ]
    },
    {
      "cell_type": "code",
      "metadata": {
        "id": "vuOIs-gAjda2",
        "colab_type": "code",
        "colab": {}
      },
      "source": [
        "# supermarket.csv -- Analysis (Which product having higher % of selling)\n",
        "# Which products having least selling %\n",
        "import pandas as pd\n",
        "products=pd.read_csv('FileName.csv')\n",
        "print(products)"
      ],
      "execution_count": 0,
      "outputs": []
    },
    {
      "cell_type": "code",
      "metadata": {
        "id": "Tzcqlq2_mINR",
        "colab_type": "code",
        "colab": {}
      },
      "source": [
        "import pandas as pd\n",
        "product_sellingdata=pd.read_csv('FileName.csv',index_col=1)\n",
        "print(product_sellingdata)"
      ],
      "execution_count": 0,
      "outputs": []
    },
    {
      "cell_type": "markdown",
      "metadata": {
        "id": "FGPr12HR2WGl",
        "colab_type": "text"
      },
      "source": [
        "1. Input is string --> Frequency of char from 0 to 9\n",
        "\n",
        "           Input : 213abc456def111\n",
        "           \n",
        "           Output : 0 4 1 1 1 1 1 0 0 0\n",
        "           \n",
        "2. Check if the two strings are Anagrams\n",
        "           abc  cba   -->  {a:1}  {b:1}  {c:1}  -- True\n",
        "           \n",
        "           aabbcc  ccbbaaa  -- False"
      ]
    }
  ]
}