{
  "nbformat": 4,
  "nbformat_minor": 0,
  "metadata": {
    "colab": {
      "name": "29/06/19.ipynb",
      "version": "0.3.2",
      "provenance": [],
      "collapsed_sections": [],
      "include_colab_link": true
    },
    "kernelspec": {
      "name": "python3",
      "display_name": "Python 3"
    }
  },
  "cells": [
    {
      "cell_type": "markdown",
      "metadata": {
        "id": "view-in-github",
        "colab_type": "text"
      },
      "source": [
        "<a href=\"https://colab.research.google.com/github/Akash-Varma-0/Python/blob/master/29_06_19.ipynb\" target=\"_parent\"><img src=\"https://colab.research.google.com/assets/colab-badge.svg\" alt=\"Open In Colab\"/></a>"
      ]
    },
    {
      "cell_type": "code",
      "metadata": {
        "id": "EJiuhPwYW2GH",
        "colab_type": "code",
        "outputId": "fabee3b8-c71e-437c-85ba-3f3b043b7a8b",
        "colab": {
          "base_uri": "https://localhost:8080/",
          "height": 139
        }
      },
      "source": [
        "#Create a series by passing a list of values\n",
        "import pandas as pd\n",
        "a = pd.Series([1,3,4,5,6,7])\n",
        "print(a)"
      ],
      "execution_count": 0,
      "outputs": [
        {
          "output_type": "stream",
          "text": [
            "0    1\n",
            "1    3\n",
            "2    4\n",
            "3    5\n",
            "4    6\n",
            "5    7\n",
            "dtype: int64\n"
          ],
          "name": "stdout"
        }
      ]
    },
    {
      "cell_type": "code",
      "metadata": {
        "id": "Ux0cIxRrXkUG",
        "colab_type": "code",
        "outputId": "fe2807db-08fd-425b-ac76-6b2ad9cdee14",
        "colab": {
          "base_uri": "https://localhost:8080/",
          "height": 139
        }
      },
      "source": [
        "#Missing values then it can be nan of numpy\n",
        "import numpy as np\n",
        "import pandas as pd\n",
        "a1 = pd.Series([1,2,3,4,np.nan,6])\n",
        "print(a1)"
      ],
      "execution_count": 0,
      "outputs": [
        {
          "output_type": "stream",
          "text": [
            "0    1.0\n",
            "1    2.0\n",
            "2    3.0\n",
            "3    4.0\n",
            "4    NaN\n",
            "5    6.0\n",
            "dtype: float64\n"
          ],
          "name": "stdout"
        }
      ]
    },
    {
      "cell_type": "code",
      "metadata": {
        "id": "FgaiIMC4ZVib",
        "colab_type": "code",
        "outputId": "acf7abe1-79c4-4910-d593-30e631313a82",
        "colab": {
          "base_uri": "https://localhost:8080/",
          "height": 87
        }
      },
      "source": [
        "# Create a list of dates with in particular range\n",
        "dates = pd.date_range('20190601',periods=10)\n",
        "print(dates)"
      ],
      "execution_count": 0,
      "outputs": [
        {
          "output_type": "stream",
          "text": [
            "DatetimeIndex(['2019-06-01', '2019-06-02', '2019-06-03', '2019-06-04',\n",
            "               '2019-06-05', '2019-06-06', '2019-06-07', '2019-06-08',\n",
            "               '2019-06-09', '2019-06-10'],\n",
            "              dtype='datetime64[ns]', freq='D')\n"
          ],
          "name": "stdout"
        }
      ]
    },
    {
      "cell_type": "code",
      "metadata": {
        "id": "k6KBeEc6cWnm",
        "colab_type": "code",
        "outputId": "66503124-8fa0-4b14-e24c-b4a8137d7e47",
        "colab": {
          "base_uri": "https://localhost:8080/",
          "height": 69
        }
      },
      "source": [
        "lst = pd.date_range('20190601',periods=5)\n",
        "print(lst)"
      ],
      "execution_count": 0,
      "outputs": [
        {
          "output_type": "stream",
          "text": [
            "DatetimeIndex(['2019-06-01', '2019-06-02', '2019-06-03', '2019-06-04',\n",
            "               '2019-06-05'],\n",
            "              dtype='datetime64[ns]', freq='D')\n"
          ],
          "name": "stdout"
        }
      ]
    },
    {
      "cell_type": "code",
      "metadata": {
        "id": "QsGgy_FmcpOa",
        "colab_type": "code",
        "colab": {}
      },
      "source": [
        "a2 = pd.DataFrame(pd.date_range('20190601',periods=5),index=dates,columns=list('ABCD'))\n",
        "print(a2)"
      ],
      "execution_count": 0,
      "outputs": []
    },
    {
      "cell_type": "code",
      "metadata": {
        "id": "1brspAP4dQ9J",
        "colab_type": "code",
        "outputId": "75ee99ae-c9ef-408f-f5d7-1c5861c218d1",
        "colab": {
          "base_uri": "https://localhost:8080/",
          "height": 104
        }
      },
      "source": [
        "#Creating a dict converted into series of values\n",
        "a3 = pd.DataFrame({'A':1.,\n",
        "                  'B':pd.Timestamp('20190601'),\n",
        "                  'C':pd.Series(1,index=list(range(4)),dtype='float32'),\n",
        "                  'D':np.array([3]*4,dtype='int32'),\n",
        "                  'E':pd.Categorical(['test','train','test','train']),\n",
        "                  'F':'foo'})\n",
        "print(a3)"
      ],
      "execution_count": 0,
      "outputs": [
        {
          "output_type": "stream",
          "text": [
            "     A          B    C  D      E    F\n",
            "0  1.0 2019-06-01  1.0  3   test  foo\n",
            "1  1.0 2019-06-01  1.0  3  train  foo\n",
            "2  1.0 2019-06-01  1.0  3   test  foo\n",
            "3  1.0 2019-06-01  1.0  3  train  foo\n"
          ],
          "name": "stdout"
        }
      ]
    },
    {
      "cell_type": "code",
      "metadata": {
        "id": "DddZ__r3f483",
        "colab_type": "code",
        "colab": {}
      },
      "source": [
        "# Turtle is a python feature like a drawing board\n",
        "# Lines, squares, Star, Rect and etc\n",
        "#Turtle() -- It creates and returns a new turtle object"
      ],
      "execution_count": 0,
      "outputs": []
    },
    {
      "cell_type": "code",
      "metadata": {
        "id": "c4r2wLmoglxJ",
        "colab_type": "code",
        "colab": {}
      },
      "source": [
        "# Step 1: Make all the \"turtle\" package to be imported\n",
        "import turtle as tt\n",
        "# Turtle method creates and returns the new object\n",
        "a1 = tt.Turtle()\n",
        "# forword() method moves 100 pixels\n",
        "tt.forward(100)\n",
        "# we are done\n",
        "tt.done()"
      ],
      "execution_count": 0,
      "outputs": []
    },
    {
      "cell_type": "code",
      "metadata": {
        "id": "DQ8zYYa5jLvN",
        "colab_type": "code",
        "colab": {}
      },
      "source": [
        "# Drawing a Square\n",
        "import turtle as tt\n",
        "a1 = tt.Turtle()\n",
        "a1.forward(150)\n",
        "a1.right(90)\n",
        "\n",
        "a1.forward(150)\n",
        "a1.right(90)\n",
        "\n",
        "a1.forward(150)\n",
        "a1.right(90)\n",
        "\n",
        "a1.forward(150)\n",
        "a1.right(90)\n",
        "\n",
        "tt.done()"
      ],
      "execution_count": 0,
      "outputs": []
    },
    {
      "cell_type": "code",
      "metadata": {
        "id": "k5xel0GqkcHj",
        "colab_type": "code",
        "colab": {}
      },
      "source": [
        "# Drawing a Square with looping statements\n",
        "import turtle as tt\n",
        "a1 = tt.Turtle()\n",
        "for x in range(4):\n",
        "  a1.forward(150)\n",
        "  a1.right(90)\n",
        "tt.done()"
      ],
      "execution_count": 0,
      "outputs": []
    },
    {
      "cell_type": "code",
      "metadata": {
        "colab_type": "code",
        "id": "yhjImkKNoT9o",
        "colab": {}
      },
      "source": [
        "# Drawing a Square with looping statements\n",
        "import turtle as tt\n",
        "a1 = tt.Turtle()\n",
        "for x in range(4):\n",
        "  a1.backward(150)\n",
        "  a1.left(90)\n",
        "tt.done()"
      ],
      "execution_count": 0,
      "outputs": []
    },
    {
      "cell_type": "code",
      "metadata": {
        "id": "V2YpXyyBosAN",
        "colab_type": "code",
        "colab": {}
      },
      "source": [
        "# Drawing a star\n",
        "import turtle as tt\n",
        "a1 = tt.Turtle()\n",
        "for x in range(40):\n",
        "  a1.forward(50)\n",
        "  a1.right(144)\n",
        "tt.done()"
      ],
      "execution_count": 0,
      "outputs": []
    },
    {
      "cell_type": "code",
      "metadata": {
        "id": "rOX-z7VWpuCh",
        "colab_type": "code",
        "colab": {}
      },
      "source": [
        "# Spiraling Star\n",
        "import turtle as tt'\n",
        "a1 = tt.Turtle()\n",
        "for i in range(40):\n",
        "  a1.forward(i * 10)\n",
        "  a1.right(144)\n",
        "tt.done()"
      ],
      "execution_count": 0,
      "outputs": []
    },
    {
      "cell_type": "code",
      "metadata": {
        "id": "vUehjA6ZsJ2G",
        "colab_type": "code",
        "colab": {}
      },
      "source": [
        "# Changing of pen colour\n",
        "import turtle as tt\n",
        "c1 = tt.Turtle()\n",
        "c1.pencolor('blue')\n",
        "for i in range(50):\n",
        "  c1.forward(50)\n",
        "  c1.left(123)\n",
        "\n",
        "c1.pencolor('red')\n",
        "for i in range(50):\n",
        "  c1.forward(100)\n",
        "  c1.left(123)\n",
        "  \n",
        "tt.done()"
      ],
      "execution_count": 0,
      "outputs": []
    },
    {
      "cell_type": "code",
      "metadata": {
        "id": "6aoz4gO33uiu",
        "colab_type": "code",
        "colab": {}
      },
      "source": [
        "# A colorful hexagon spiral program\n",
        "import turtle as tt\n",
        "colors = ['red','blue','orange','green','yellow','purple']\n",
        "a1 = tt.Turtle()\n",
        "for x in range(360):\n",
        "  a1.pencolor(colors[x%6])\n",
        "  a1.width(x/100+1)\n",
        "  a1.forward(x)\n",
        "  a1.left(59)\n",
        "tt.done()"
      ],
      "execution_count": 0,
      "outputs": []
    },
    {
      "cell_type": "code",
      "metadata": {
        "id": "WdgqL19x28Ax",
        "colab_type": "code",
        "colab": {}
      },
      "source": [
        "import turtle as tt\n",
        "a1 = tt.Turtle()\n",
        "colors = ['red','green','yellow','orange','blue','purple']\n",
        "dot_distance = 10\n",
        "width = 10\n",
        "height = 15\n",
        "a1.penup()\n",
        "for x in range(height):\n",
        "  a1.pencolor(colors[x%6])\n",
        "  for i in range(width):\n",
        "    a1.dot()\n",
        "    a1.forward(dot_distance)\n",
        "  a1.forward(dot_distance * width)\n",
        "  a1.right(90)\n",
        "  a1.forward(dot_distance)\n",
        "  a1.left(90)\n",
        "tt.done()"
      ],
      "execution_count": 0,
      "outputs": []
    },
    {
      "cell_type": "code",
      "metadata": {
        "id": "OOZW1iDq6EGn",
        "colab_type": "code",
        "colab": {}
      },
      "source": [
        "# Generating blue flowers\n",
        "from turtle import *\n",
        "import random\n",
        "for n in range(50):\n",
        "  penup()\n",
        "  goto(random.randint(-400,400),random.randint(-400,400))\n",
        "  pendown()\n",
        "  red_amount = random.randint(0,30)/100.0\n",
        "  blue_amount = random.randint(50,100)/100.0\n",
        "  green_amount = random.randint(0,30)/100.0\n",
        "  pencolor((red_amount,blue_amount,green_amount))\n",
        "  circle_size = random.randint(10,40)\n",
        "  pensize(random.randint(4,6))\n",
        "  for i in range(6):\n",
        "    circle(circle_size)\n",
        "    left(60)"
      ],
      "execution_count": 0,
      "outputs": []
    },
    {
      "cell_type": "code",
      "metadata": {
        "id": "_Sp1ufFE-aMC",
        "colab_type": "code",
        "colab": {}
      },
      "source": [
        "# Symbol generation using pytho turtle\n",
        "from turtle import *\n",
        "def main():\n",
        "  colors = ('red','orange','yellow','seagreen4','Orchid4 ','royalblue1','dodgerblue1')\n",
        "  reset()\n",
        "  Screen()\n",
        "  up()\n",
        "  goto(-320,-195)\n",
        "  width(70)\n",
        "  for pcolor in colors:\n",
        "    color(pcolor)\n",
        "    down()\n",
        "    forward(640)\n",
        "    up()\n",
        "    backward(640)\n",
        "    left(90)\n",
        "    forward(66)\n",
        "    right(90)\n",
        "  \n",
        "  width(25)\n",
        "  color('white')\n",
        "  goot(0,-170)\n",
        "  down()\n",
        "  \n",
        "  circle(170)\n",
        "  left(90)\n",
        "  forward(340)\n",
        "  up()\n",
        "  left(180)\n",
        "  forward(170)\n",
        "  right(45)\n",
        "  down()\n",
        "  forward(170)\n",
        "  up()\n",
        "  backward(170)\n",
        "  left(90)\n",
        "  down()\n",
        "  forward(170)\n",
        "  up()\n",
        "  goto(0,300)\n",
        "if __name__==\"__main__\":\n",
        "  main()\n",
        "  maiinloop()"
      ],
      "execution_count": 0,
      "outputs": []
    },
    {
      "cell_type": "code",
      "metadata": {
        "id": "IpWXReitFFjK",
        "colab_type": "code",
        "colab": {}
      },
      "source": [
        "# Generating a chos using python turtle lib\n",
        "from turtle import *\n",
        "\n",
        "N = 80\n",
        "\n",
        "def f(x):\n",
        "  return 3.9*x*(1-x)\n",
        "\n",
        "def g(x):\n",
        "  return 3.9*(x-x**2)\n",
        "\n",
        "def h(x):\n",
        "  return 3.9*x-3.9*x*x\n",
        "\n",
        "def jumpto(x,y):\n",
        "  penup()\n",
        "  goto(x,y)\n",
        "\n",
        "def line(x1,y1,x2,y2):\n",
        "  jumpto(x1,y1)\n",
        "  pendown()\n",
        "  jumpto(x2,y2)\n",
        "\n",
        "def coosys():\n",
        "  line(-1,0,N+1,0)\n",
        "  line(0,-0-1,0,1.1)\n",
        "\n",
        "def plot(fun,start,color):\n",
        "  pencolor(color)\n",
        "  x = start\n",
        "  jumpto(0,x)\n",
        "  pendown()\n",
        "  dot(5)\n",
        "  for i in range(N):\n",
        "    x = fun(x)\n",
        "    goto(i+1,x)\n",
        "    dot(5)\n",
        "def main():\n",
        "  reset()\n",
        "  setworldcoordinates(-1.0,-1.0,N+1,1.1)\n",
        "  speed(0)\n",
        "  hideturtle()\n",
        "  coosys()\n",
        "  plot(f,0.35,'blue')\n",
        "  plot(f,0.35,'')  "
      ],
      "execution_count": 0,
      "outputs": []
    }
  ]
}